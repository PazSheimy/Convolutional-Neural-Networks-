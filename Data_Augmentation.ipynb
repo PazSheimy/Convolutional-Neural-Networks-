{
  "nbformat": 4,
  "nbformat_minor": 0,
  "metadata": {
    "colab": {
      "name": "Data Augmentation.ipynb",
      "provenance": [],
      "authorship_tag": "ABX9TyMub7ySnSXY8qQG4rzc5zmp",
      "include_colab_link": true
    },
    "kernelspec": {
      "name": "python3",
      "display_name": "Python 3"
    },
    "language_info": {
      "name": "python"
    },
    "accelerator": "GPU"
  },
  "cells": [
    {
      "cell_type": "markdown",
      "metadata": {
        "id": "view-in-github",
        "colab_type": "text"
      },
      "source": [
        "<a href=\"https://colab.research.google.com/github/PazSheimy/Convolutional-Neural-Networks-/blob/main/Data_Augmentation.ipynb\" target=\"_parent\"><img src=\"https://colab.research.google.com/assets/colab-badge.svg\" alt=\"Open In Colab\"/></a>"
      ]
    },
    {
      "cell_type": "markdown",
      "source": [
        "Data Augmentation\n",
        "\n",
        "In the previous lessons, you saw that having a high training accuracy does not automatically mean having a good predictive model. It can still perform poorly on new data because it has overfit to the training set. In this lab, you will see how to avoid that using data augmentation. This increases the amount of training data by modifying the existing training data's properties. For example, in image data, you can apply different preprocessing techniques such as rotate, flip, shear, or zoom on your existing images so you can simulate other data that the model should also learn from. This way, the model would see more variety in the images during training so it will infer better on new, previously unseen data.\n",
        "\n",
        "Let's see how you can do this in the following sections.\n",
        "\n",
        "Baseline Performance\n",
        "You will start with a model that's very effective at learning Cats vs Dogs without data augmentation. It's similar to the previous models that you have used. Note that there are four convolutional layers with 32, 64, 128 and 128 convolutions respectively. The code is basically the same from the previous lab so we won't go over the details step by step since you've already seen it before.\n",
        "\n",
        "You will train only for 20 epochs to save time but feel free to increase this if you want."
      ],
      "metadata": {
        "id": "GIUV3EHFUGB6"
      }
    },
    {
      "cell_type": "code",
      "source": [
        "# Download the dataset\n",
        "!wget https://storage.googleapis.com/tensorflow-1-public/course2/cats_and_dogs_filtered.zip"
      ],
      "metadata": {
        "colab": {
          "base_uri": "https://localhost:8080/"
        },
        "id": "c_dKO6r6UQzw",
        "outputId": "2107b1db-d4fd-4138-d30a-79af1d74c212"
      },
      "execution_count": 1,
      "outputs": [
        {
          "output_type": "stream",
          "name": "stdout",
          "text": [
            "--2022-05-15 20:04:29--  https://storage.googleapis.com/tensorflow-1-public/course2/cats_and_dogs_filtered.zip\n",
            "Resolving storage.googleapis.com (storage.googleapis.com)... 172.217.13.240, 172.253.62.128, 172.253.115.128, ...\n",
            "Connecting to storage.googleapis.com (storage.googleapis.com)|172.217.13.240|:443... connected.\n",
            "HTTP request sent, awaiting response... 200 OK\n",
            "Length: 68606236 (65M) [application/zip]\n",
            "Saving to: ‘cats_and_dogs_filtered.zip’\n",
            "\n",
            "cats_and_dogs_filte 100%[===================>]  65.43M   184MB/s    in 0.4s    \n",
            "\n",
            "2022-05-15 20:04:29 (184 MB/s) - ‘cats_and_dogs_filtered.zip’ saved [68606236/68606236]\n",
            "\n"
          ]
        }
      ]
    },
    {
      "cell_type": "code",
      "source": [
        "import os\n",
        "import zipfile\n",
        "\n",
        "# Extract the archive\n",
        "zip_ref = zipfile.ZipFile(\"./cats_and_dogs_filtered.zip\", 'r')\n",
        "zip_ref.extractall(\"tmp/\")\n",
        "zip_ref.close()\n",
        "\n",
        "# Assign training and validation set directories\n",
        "base_dir = 'tmp/cats_and_dogs_filtered'\n",
        "train_dir = os.path.join(base_dir, 'train')\n",
        "validation_dir = os.path.join(base_dir, 'validation')\n",
        "\n",
        "# Directory with training cat pictures\n",
        "train_cats_dir = os.path.join(train_dir, 'cats')\n",
        "\n",
        "# Directory with training dog pictures\n",
        "train_dogs_dir = os.path.join(train_dir, 'dogs')\n",
        "\n",
        "# Directory with validation cat pictures\n",
        "validation_cats_dir = os.path.join(validation_dir, 'cats')\n",
        "\n",
        "# Directory with validation dog pictures\n",
        "validation_dogs_dir = os.path.join(validation_dir, 'dogs')"
      ],
      "metadata": {
        "id": "h2CxitESUUms"
      },
      "execution_count": 2,
      "outputs": []
    },
    {
      "cell_type": "markdown",
      "source": [
        "You will place the model creation inside a function so you can easily initialize a new one when you use data augmentation later in this notebook."
      ],
      "metadata": {
        "id": "JgV9X3zOUY2V"
      }
    },
    {
      "cell_type": "code",
      "source": [
        "import tensorflow as tf\n",
        "from tensorflow.keras.optimizers import RMSprop\n",
        "\n",
        "def create_model():\n",
        "  '''Creates a CNN with 4 convolutional layers'''\n",
        "  model = tf.keras.models.Sequential([\n",
        "      tf.keras.layers.Conv2D(32, (3,3), activation='relu', input_shape=(150, 150, 3)),\n",
        "      tf.keras.layers.MaxPooling2D(2, 2),\n",
        "      tf.keras.layers.Conv2D(64, (3,3), activation='relu'),\n",
        "      tf.keras.layers.MaxPooling2D(2,2),\n",
        "      tf.keras.layers.Conv2D(128, (3,3), activation='relu'),\n",
        "      tf.keras.layers.MaxPooling2D(2,2),\n",
        "      tf.keras.layers.Conv2D(128, (3,3), activation='relu'),\n",
        "      tf.keras.layers.MaxPooling2D(2,2),\n",
        "      tf.keras.layers.Flatten(),\n",
        "      tf.keras.layers.Dense(512, activation='relu'),\n",
        "      tf.keras.layers.Dense(1, activation='sigmoid')\n",
        "  ])\n",
        "\n",
        "  model.compile(loss='binary_crossentropy',\n",
        "                optimizer=RMSprop(learning_rate=1e-4),\n",
        "                metrics=['accuracy'])\n",
        "  \n",
        "  return model"
      ],
      "metadata": {
        "id": "sZtQ7oduUeAD"
      },
      "execution_count": 3,
      "outputs": []
    },
    {
      "cell_type": "code",
      "source": [
        "from tensorflow.keras.preprocessing.image import ImageDataGenerator\n",
        "\n",
        "# All images will be rescaled by 1./255\n",
        "train_datagen = ImageDataGenerator(rescale=1./255)\n",
        "test_datagen = ImageDataGenerator(rescale=1./255)\n",
        "\n",
        "# Flow training images in batches of 20 using train_datagen generator\n",
        "train_generator = train_datagen.flow_from_directory(\n",
        "        train_dir,  # This is the source directory for training images\n",
        "        target_size=(150, 150),  # All images will be resized to 150x150\n",
        "        batch_size=20,\n",
        "        # Since we use binary_crossentropy loss, we need binary labels\n",
        "        class_mode='binary')\n",
        "\n",
        "# Flow validation images in batches of 20 using test_datagen generator\n",
        "validation_generator = test_datagen.flow_from_directory(\n",
        "        validation_dir,\n",
        "        target_size=(150, 150),\n",
        "        batch_size=20,\n",
        "        class_mode='binary')"
      ],
      "metadata": {
        "colab": {
          "base_uri": "https://localhost:8080/"
        },
        "id": "9oFlR-BOUgJz",
        "outputId": "e7f23b3b-31fa-41f8-e6a7-1ffb019bad25"
      },
      "execution_count": 4,
      "outputs": [
        {
          "output_type": "stream",
          "name": "stdout",
          "text": [
            "Found 2000 images belonging to 2 classes.\n",
            "Found 1000 images belonging to 2 classes.\n"
          ]
        }
      ]
    },
    {
      "cell_type": "code",
      "source": [
        "# Constant for epochs\n",
        "EPOCHS = 20\n",
        "\n",
        "# Create a new model\n",
        "model = create_model()\n",
        "\n",
        "# Train the model\n",
        "history = model.fit(\n",
        "      train_generator,\n",
        "      steps_per_epoch=100,  # 2000 images = batch_size * steps\n",
        "      epochs=EPOCHS,\n",
        "      validation_data=validation_generator,\n",
        "      validation_steps=50,  # 1000 images = batch_size * steps\n",
        "      verbose=2)"
      ],
      "metadata": {
        "colab": {
          "base_uri": "https://localhost:8080/"
        },
        "id": "WakfoyUAUhzz",
        "outputId": "1bb17561-2bd2-42d6-addb-d2e2e228fc9a"
      },
      "execution_count": 5,
      "outputs": [
        {
          "output_type": "stream",
          "name": "stdout",
          "text": [
            "Epoch 1/20\n",
            "100/100 - 25s - loss: 0.6863 - accuracy: 0.5520 - val_loss: 0.6605 - val_accuracy: 0.6400 - 25s/epoch - 248ms/step\n",
            "Epoch 2/20\n",
            "100/100 - 10s - loss: 0.6375 - accuracy: 0.6440 - val_loss: 0.6416 - val_accuracy: 0.6390 - 10s/epoch - 96ms/step\n",
            "Epoch 3/20\n",
            "100/100 - 9s - loss: 0.5943 - accuracy: 0.6870 - val_loss: 0.6101 - val_accuracy: 0.6710 - 9s/epoch - 87ms/step\n",
            "Epoch 4/20\n",
            "100/100 - 8s - loss: 0.5642 - accuracy: 0.7070 - val_loss: 0.5762 - val_accuracy: 0.6950 - 8s/epoch - 85ms/step\n",
            "Epoch 5/20\n",
            "100/100 - 8s - loss: 0.5382 - accuracy: 0.7240 - val_loss: 0.5749 - val_accuracy: 0.6930 - 8s/epoch - 83ms/step\n",
            "Epoch 6/20\n",
            "100/100 - 8s - loss: 0.5152 - accuracy: 0.7465 - val_loss: 0.6510 - val_accuracy: 0.6640 - 8s/epoch - 85ms/step\n",
            "Epoch 7/20\n",
            "100/100 - 9s - loss: 0.4926 - accuracy: 0.7555 - val_loss: 0.5452 - val_accuracy: 0.7180 - 9s/epoch - 86ms/step\n",
            "Epoch 8/20\n",
            "100/100 - 8s - loss: 0.4716 - accuracy: 0.7640 - val_loss: 0.6200 - val_accuracy: 0.6470 - 8s/epoch - 83ms/step\n",
            "Epoch 9/20\n",
            "100/100 - 14s - loss: 0.4425 - accuracy: 0.7835 - val_loss: 0.5712 - val_accuracy: 0.7060 - 14s/epoch - 142ms/step\n",
            "Epoch 10/20\n",
            "100/100 - 9s - loss: 0.4176 - accuracy: 0.8120 - val_loss: 0.5803 - val_accuracy: 0.7070 - 9s/epoch - 88ms/step\n",
            "Epoch 11/20\n",
            "100/100 - 8s - loss: 0.3950 - accuracy: 0.8215 - val_loss: 0.5493 - val_accuracy: 0.7360 - 8s/epoch - 84ms/step\n",
            "Epoch 12/20\n",
            "100/100 - 8s - loss: 0.3700 - accuracy: 0.8330 - val_loss: 0.5479 - val_accuracy: 0.7260 - 8s/epoch - 83ms/step\n",
            "Epoch 13/20\n",
            "100/100 - 8s - loss: 0.3431 - accuracy: 0.8530 - val_loss: 0.5570 - val_accuracy: 0.7220 - 8s/epoch - 83ms/step\n",
            "Epoch 14/20\n",
            "100/100 - 9s - loss: 0.3228 - accuracy: 0.8605 - val_loss: 0.5925 - val_accuracy: 0.7260 - 9s/epoch - 87ms/step\n",
            "Epoch 15/20\n",
            "100/100 - 8s - loss: 0.2952 - accuracy: 0.8740 - val_loss: 0.5559 - val_accuracy: 0.7410 - 8s/epoch - 83ms/step\n",
            "Epoch 16/20\n",
            "100/100 - 8s - loss: 0.2765 - accuracy: 0.8815 - val_loss: 0.5445 - val_accuracy: 0.7490 - 8s/epoch - 83ms/step\n",
            "Epoch 17/20\n",
            "100/100 - 8s - loss: 0.2588 - accuracy: 0.8995 - val_loss: 0.5776 - val_accuracy: 0.7360 - 8s/epoch - 83ms/step\n",
            "Epoch 18/20\n",
            "100/100 - 8s - loss: 0.2391 - accuracy: 0.9065 - val_loss: 0.6086 - val_accuracy: 0.7240 - 8s/epoch - 84ms/step\n",
            "Epoch 19/20\n",
            "100/100 - 8s - loss: 0.2166 - accuracy: 0.9105 - val_loss: 0.6197 - val_accuracy: 0.7290 - 8s/epoch - 84ms/step\n",
            "Epoch 20/20\n",
            "100/100 - 8s - loss: 0.1907 - accuracy: 0.9340 - val_loss: 0.6405 - val_accuracy: 0.7480 - 8s/epoch - 84ms/step\n"
          ]
        }
      ]
    },
    {
      "cell_type": "markdown",
      "source": [
        "You will then visualize the loss and accuracy with respect to the training and validation set. You will again use a convenience function so it can be reused later. This function accepts a History object which contains the results of the fit() method you ran above."
      ],
      "metadata": {
        "id": "kb_hVYcIUq5T"
      }
    },
    {
      "cell_type": "code",
      "source": [
        "import matplotlib.pyplot as plt\n",
        "\n",
        "def plot_loss_acc(history):\n",
        "  '''Plots the training and validation loss and accuracy from a history object'''\n",
        "  acc = history.history['accuracy']\n",
        "  val_acc = history.history['val_accuracy']\n",
        "  loss = history.history['loss']\n",
        "  val_loss = history.history['val_loss']\n",
        "\n",
        "  epochs = range(len(acc))\n",
        "\n",
        "  plt.plot(epochs, acc, 'bo', label='Training accuracy')\n",
        "  plt.plot(epochs, val_acc, 'b', label='Validation accuracy')\n",
        "  plt.title('Training and validation accuracy')\n",
        "\n",
        "  plt.figure()\n",
        "\n",
        "  plt.plot(epochs, loss, 'bo', label='Training Loss')\n",
        "  plt.plot(epochs, val_loss, 'b', label='Validation Loss')\n",
        "  plt.title('Training and validation loss')\n",
        "  plt.legend()\n",
        "\n",
        "  plt.show()"
      ],
      "metadata": {
        "id": "3-cR8tM_UtxD"
      },
      "execution_count": 6,
      "outputs": []
    },
    {
      "cell_type": "code",
      "source": [
        "# Plot training results\n",
        "plot_loss_acc(history)"
      ],
      "metadata": {
        "id": "BKVFgcQhUyZM"
      },
      "execution_count": null,
      "outputs": []
    },
    {
      "cell_type": "markdown",
      "source": [
        "From the results above, you'll see the training accuracy is more than 90%, and the validation accuracy is in the 70%-80% range. This is a great example of overfitting -- which in short means that it can do very well with images it has seen before, but not so well with images it hasn't.\n",
        "\n",
        "Data augmentation\n",
        "\n",
        "One simple method to avoid overfitting is to augment the images a bit. If you think about it, most pictures of a cat are very similar -- the ears are at the top, then the eyes, then the mouth etc. Things like the distance between the eyes and ears will always be quite similar too.\n",
        "\n",
        "What if you tweak with the images a bit -- rotate the image, squash it, etc. That's what image augementation is all about. And there's an API that makes it easy!\n",
        "\n",
        "Take a look at the ImageDataGenerator which you have been using to rescale the image. There are other properties on it that you can use to augment the image.\n",
        "\n",
        "# Updated to do image augmentation\n",
        "train_datagen = ImageDataGenerator(\n",
        "      rotation_range=40,\n",
        "      width_shift_range=0.2,\n",
        "      height_shift_range=0.2,\n",
        "      shear_range=0.2,\n",
        "      zoom_range=0.2,\n",
        "      horizontal_flip=True,\n",
        "      fill_mode='nearest')\n",
        "These are just a few of the options available. Let's quickly go over it:\n",
        "\n",
        "rotation_range is a value in degrees (0–180) within which to randomly rotate pictures.\n",
        "width_shift and height_shift are ranges (as a fraction of total width or height) within which to randomly translate pictures vertically or horizontally.\n",
        "shear_range is for randomly applying shearing transformations.\n",
        "zoom_range is for randomly zooming inside pictures.\n",
        "horizontal_flip is for randomly flipping half of the images horizontally. This is relevant when there are no assumptions of horizontal assymmetry (e.g. real-world pictures).\n",
        "fill_mode is the strategy used for filling in newly created pixels, which can appear after a rotation or a width/height shift.\n",
        "\n",
        "Run the next cells to see the impact on the results. The code is similar to the baseline but the definition of train_datagen has been updated to use the parameters described above."
      ],
      "metadata": {
        "id": "eNIieFxNU1oi"
      }
    },
    {
      "cell_type": "code",
      "source": [
        "# Create new model\n",
        "model_for_aug = create_model()\n",
        "\n",
        "# This code has changed. Now instead of the ImageGenerator just rescaling\n",
        "# the image, we also rotate and do other operations\n",
        "train_datagen = ImageDataGenerator(\n",
        "      rescale=1./255,\n",
        "      rotation_range=40,\n",
        "      width_shift_range=0.2,\n",
        "      height_shift_range=0.2,\n",
        "      shear_range=0.2,\n",
        "      zoom_range=0.2,\n",
        "      horizontal_flip=True,\n",
        "      fill_mode='nearest')\n",
        "\n",
        "test_datagen = ImageDataGenerator(rescale=1./255)\n",
        "\n",
        "# Flow training images in batches of 20 using train_datagen generator\n",
        "train_generator = train_datagen.flow_from_directory(\n",
        "        train_dir,  # This is the source directory for training images\n",
        "        target_size=(150, 150),  # All images will be resized to 150x150\n",
        "        batch_size=20,\n",
        "        # Since we use binary_crossentropy loss, we need binary labels\n",
        "        class_mode='binary')\n",
        "\n",
        "# Flow validation images in batches of 20 using test_datagen generator\n",
        "validation_generator = test_datagen.flow_from_directory(\n",
        "        validation_dir,\n",
        "        target_size=(150, 150),\n",
        "        batch_size=20,\n",
        "        class_mode='binary')\n",
        "\n",
        "# Train the new model\n",
        "history_with_aug = model_for_aug.fit(\n",
        "      train_generator,\n",
        "      steps_per_epoch=100,  # 2000 images = batch_size * steps\n",
        "      epochs=EPOCHS,\n",
        "      validation_data=validation_generator,\n",
        "      validation_steps=50,  # 1000 images = batch_size * steps\n",
        "      verbose=2)"
      ],
      "metadata": {
        "colab": {
          "base_uri": "https://localhost:8080/"
        },
        "id": "NhseNng2U7xx",
        "outputId": "fdee9695-e7b4-4504-a624-8b47e72f9366"
      },
      "execution_count": 7,
      "outputs": [
        {
          "output_type": "stream",
          "name": "stdout",
          "text": [
            "Found 2000 images belonging to 2 classes.\n",
            "Found 1000 images belonging to 2 classes.\n",
            "Epoch 1/20\n",
            "100/100 - 17s - loss: 0.6945 - accuracy: 0.5110 - val_loss: 0.7044 - val_accuracy: 0.5000 - 17s/epoch - 173ms/step\n",
            "Epoch 2/20\n",
            "100/100 - 17s - loss: 0.6829 - accuracy: 0.5520 - val_loss: 0.6787 - val_accuracy: 0.5680 - 17s/epoch - 170ms/step\n",
            "Epoch 3/20\n",
            "100/100 - 17s - loss: 0.6759 - accuracy: 0.5830 - val_loss: 0.6439 - val_accuracy: 0.6360 - 17s/epoch - 166ms/step\n",
            "Epoch 4/20\n",
            "100/100 - 17s - loss: 0.6562 - accuracy: 0.6090 - val_loss: 0.6417 - val_accuracy: 0.6210 - 17s/epoch - 166ms/step\n",
            "Epoch 5/20\n",
            "100/100 - 16s - loss: 0.6420 - accuracy: 0.6235 - val_loss: 0.6183 - val_accuracy: 0.6470 - 16s/epoch - 165ms/step\n",
            "Epoch 6/20\n",
            "100/100 - 17s - loss: 0.6130 - accuracy: 0.6630 - val_loss: 0.5956 - val_accuracy: 0.6680 - 17s/epoch - 166ms/step\n",
            "Epoch 7/20\n",
            "100/100 - 16s - loss: 0.6142 - accuracy: 0.6600 - val_loss: 0.5961 - val_accuracy: 0.6680 - 16s/epoch - 165ms/step\n",
            "Epoch 8/20\n",
            "100/100 - 16s - loss: 0.6009 - accuracy: 0.6660 - val_loss: 0.5565 - val_accuracy: 0.7030 - 16s/epoch - 165ms/step\n",
            "Epoch 9/20\n",
            "100/100 - 17s - loss: 0.5929 - accuracy: 0.6755 - val_loss: 0.5625 - val_accuracy: 0.6880 - 17s/epoch - 165ms/step\n",
            "Epoch 10/20\n",
            "100/100 - 17s - loss: 0.5832 - accuracy: 0.6925 - val_loss: 0.5616 - val_accuracy: 0.7010 - 17s/epoch - 166ms/step\n",
            "Epoch 11/20\n",
            "100/100 - 16s - loss: 0.5734 - accuracy: 0.6815 - val_loss: 0.5599 - val_accuracy: 0.6950 - 16s/epoch - 164ms/step\n",
            "Epoch 12/20\n",
            "100/100 - 16s - loss: 0.5803 - accuracy: 0.6990 - val_loss: 0.5437 - val_accuracy: 0.7220 - 16s/epoch - 165ms/step\n",
            "Epoch 13/20\n",
            "100/100 - 17s - loss: 0.5746 - accuracy: 0.6950 - val_loss: 0.5635 - val_accuracy: 0.6990 - 17s/epoch - 165ms/step\n",
            "Epoch 14/20\n",
            "100/100 - 17s - loss: 0.5684 - accuracy: 0.6990 - val_loss: 0.5242 - val_accuracy: 0.7210 - 17s/epoch - 166ms/step\n",
            "Epoch 15/20\n",
            "100/100 - 16s - loss: 0.5530 - accuracy: 0.7140 - val_loss: 0.5317 - val_accuracy: 0.7230 - 16s/epoch - 165ms/step\n",
            "Epoch 16/20\n",
            "100/100 - 16s - loss: 0.5529 - accuracy: 0.7245 - val_loss: 0.5493 - val_accuracy: 0.7250 - 16s/epoch - 165ms/step\n",
            "Epoch 17/20\n",
            "100/100 - 17s - loss: 0.5468 - accuracy: 0.7205 - val_loss: 0.5341 - val_accuracy: 0.7110 - 17s/epoch - 166ms/step\n",
            "Epoch 18/20\n",
            "100/100 - 16s - loss: 0.5472 - accuracy: 0.7145 - val_loss: 0.5465 - val_accuracy: 0.7210 - 16s/epoch - 165ms/step\n",
            "Epoch 19/20\n",
            "100/100 - 17s - loss: 0.5431 - accuracy: 0.7350 - val_loss: 0.5011 - val_accuracy: 0.7440 - 17s/epoch - 165ms/step\n",
            "Epoch 20/20\n",
            "100/100 - 16s - loss: 0.5267 - accuracy: 0.7190 - val_loss: 0.4960 - val_accuracy: 0.7600 - 16s/epoch - 164ms/step\n"
          ]
        }
      ]
    },
    {
      "cell_type": "code",
      "source": [
        "# Plot the results of training with data augmentation\n",
        "plot_loss_acc(history_with_aug)"
      ],
      "metadata": {
        "colab": {
          "base_uri": "https://localhost:8080/",
          "height": 545
        },
        "id": "wBEPkA9EVBnz",
        "outputId": "e5536082-c141-4147-b251-6023dbdfb139"
      },
      "execution_count": 8,
      "outputs": [
        {
          "output_type": "display_data",
          "data": {
            "text/plain": [
              "<Figure size 432x288 with 1 Axes>"
            ],
            "image/png": "[encoded data removed]"
          },
          "metadata": {
            "needs_background": "light"
          }
        },
        {
          "output_type": "display_data",
          "data": {
            "text/plain": [
              "<Figure size 432x288 with 1 Axes>"
            ],
            "image/png": "[encoded data removed]"
          },
          "metadata": {
            "needs_background": "light"
          }
        }
      ]
    },
    {
      "cell_type": "markdown",
      "source": [
        "As you can see, the training accuracy has gone down compared to the baseline. This is expected because (as a result of data augmentation) there are more variety in the images so the model will need more runs to learn from them. The good thing is the validation accuracy is no longer stalling and is more in line with the training results. This means that the model is now performing better on unseen data.\n",
        "\n",
        "Wrap Up\n",
        "\n",
        "This exercise showed a simple trick to avoid overfitting. You can improve your baseline results by simply tweaking the same images you have already. The ImageDataGenerator class has built-in parameters to do just that. Try to modify the values some more in the train_datagen and see what results you get.\n",
        "\n",
        "Take note that this will not work for all cases. In the next lesson, Laurence will show a scenario where data augmentation will not help improve your validation accuracy."
      ],
      "metadata": {
        "id": "xeF1jDqgVDhS"
      }
    }
  ]
}